{
 "cells": [
  {
   "cell_type": "code",
   "execution_count": 9,
   "id": "26d0d119-6039-4b93-af9e-5b19acc4fde1",
   "metadata": {
    "tags": []
   },
   "outputs": [],
   "source": [
    "month=['쌍', '쇠', '복', '돌', '팽', '육', '쌍', '개', '칠', '갑', '삼', '방']"
   ]
  },
  {
   "cell_type": "code",
   "execution_count": 10,
   "id": "bd86ce91-3b32-434b-bfac-816834151c84",
   "metadata": {
    "tags": []
   },
   "outputs": [],
   "source": [
    "day=['봉', '구', '욕', '포', '똥', '삼', '식', '석', '놈', '님', '년', '돌', '단', '득', '방', '질', '장', '걸', '래', '룡', '동', '순', '자', '박', '창', '언', '것', '포', '만', '단', '국']"
   ]
  },
  {
   "cell_type": "code",
   "execution_count": 11,
   "id": "97db6186-e0d0-4c1a-be0c-3bdd30d9e011",
   "metadata": {
    "tags": []
   },
   "outputs": [],
   "source": [
    "def get_my_chosun_name(family_name, user_month, user_day):\n",
    "    print(family_name, month[user_month], day[user_day])"
   ]
  },
  {
   "cell_type": "code",
   "execution_count": 12,
   "id": "8c879b67-b5df-4929-8a6e-8e53fd4c53f7",
   "metadata": {
    "tags": []
   },
   "outputs": [
    {
     "name": "stdout",
     "output_type": "stream",
     "text": [
      "이 방 걸\n"
     ]
    }
   ],
   "source": [
    "get_my_chosun_name('이',11,17)"
   ]
  },
  {
   "cell_type": "code",
   "execution_count": null,
   "id": "494a4cae-5dcc-461e-b5ee-4e9325642254",
   "metadata": {},
   "outputs": [],
   "source": []
  }
 ],
 "metadata": {
  "kernelspec": {
   "display_name": "Python 3 (ipykernel)",
   "language": "python",
   "name": "python3"
  },
  "language_info": {
   "codemirror_mode": {
    "name": "ipython",
    "version": 3
   },
   "file_extension": ".py",
   "mimetype": "text/x-python",
   "name": "python",
   "nbconvert_exporter": "python",
   "pygments_lexer": "ipython3",
   "version": "3.11.7"
  }
 },
 "nbformat": 4,
 "nbformat_minor": 5
}
