{
 "cells": [
  {
   "cell_type": "code",
   "execution_count": 1,
   "id": "679c0751-99f0-47af-b43b-055e8bd442e5",
   "metadata": {
    "tags": []
   },
   "outputs": [
    {
     "name": "stdout",
     "output_type": "stream",
     "text": [
      "Average price is  31.875\n",
      "[25, 20, 35, 15, 15, 30, 45, 30]\n",
      "Average daily revenue is 155.0\n",
      "['bouffant', 'pixie', 'crew', 'bowl']\n"
     ]
    }
   ],
   "source": [
    "# 헤어스타일, 가격, 주문횟수에 대한 배열 선언\n",
    "hairstyles = [\"bouffant\", \"pixie\", \"dreadlocks\", \"crew\", \"bowl\", \"bob\", \"mohawk\", \"flattop\"]\n",
    "prices = [30, 25, 40, 20, 20, 35, 50, 35]\n",
    "last_week = [2, 3, 5, 8, 4, 4, 6, 2]\n",
    "\n",
    "#헤어스타일의 평균가격\n",
    "total_price = 0 \n",
    "total_price = sum(prices)\n",
    "average_price = total_price / len(prices)\n",
    "print(\"Average price is \", average_price)\n",
    "\n",
    "# 할인된 가격으로 조정\n",
    "new_prices = [price - 5 for price in prices]\n",
    "print(new_prices)\n",
    "\n",
    "#미용실의 수익\n",
    "total_revenue=0\n",
    "total_revenue = sum([prices[i] * last_week[i] for i in range(len(hairstyles))])\n",
    "average_daily_revenue = total_revenue / 7\n",
    "print(\"Average daily revenue is\", average_daily_revenue)\n",
    "\n",
    "# 30달러 아래의 헤어스타일을 광고하기\n",
    "cuts_under_30 = [hairstyles[i] for i in range(len(new_prices)) if new_prices[i] < 30]\n",
    "print(cuts_under_30)"
   ]
  },
  {
   "cell_type": "code",
   "execution_count": null,
   "id": "c7b9d9ed-2309-4178-9e75-ac4a70a39708",
   "metadata": {},
   "outputs": [],
   "source": []
  }
 ],
 "metadata": {
  "kernelspec": {
   "display_name": "Python 3 (ipykernel)",
   "language": "python",
   "name": "python3"
  },
  "language_info": {
   "codemirror_mode": {
    "name": "ipython",
    "version": 3
   },
   "file_extension": ".py",
   "mimetype": "text/x-python",
   "name": "python",
   "nbconvert_exporter": "python",
   "pygments_lexer": "ipython3",
   "version": "3.11.7"
  }
 },
 "nbformat": 4,
 "nbformat_minor": 5
}
