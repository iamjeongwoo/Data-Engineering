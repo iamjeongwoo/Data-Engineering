{
 "cells": [
  {
   "cell_type": "code",
   "execution_count": 2,
   "id": "fda518e6-62bd-4515-b620-999f0a593a8a",
   "metadata": {
    "tags": []
   },
   "outputs": [],
   "source": [
    "lovely_loveseat_description=\"Lovely Loveseat. Tufted polyester blend on wood. 32 inches high x 40 inches wide x 30 inches deep. Red or white.\""
   ]
  },
  {
   "cell_type": "code",
   "execution_count": 3,
   "id": "9722d9b3-3294-48c9-8b15-c8875255683d",
   "metadata": {
    "tags": []
   },
   "outputs": [],
   "source": [
    "lovely_loveseat_price = 254.00"
   ]
  },
  {
   "cell_type": "code",
   "execution_count": 4,
   "id": "b38fdb19-dc36-44e2-be86-e97cae9c394f",
   "metadata": {
    "tags": []
   },
   "outputs": [],
   "source": [
    "stylish_settee_description=\"stylish settee. Faux leather on birch. 29.50 inches high x 54.75 inches wide x 28 inches deep. Black.\""
   ]
  },
  {
   "cell_type": "code",
   "execution_count": 5,
   "id": "973a01d4-19ed-4498-a18f-b2fcea1e19e1",
   "metadata": {
    "tags": []
   },
   "outputs": [],
   "source": [
    "stylish_settee_price = 180.50"
   ]
  },
  {
   "cell_type": "code",
   "execution_count": 6,
   "id": "ca4523bc-2d60-4a15-ac37-1cb8b7155f0e",
   "metadata": {
    "tags": []
   },
   "outputs": [],
   "source": [
    "luxurious_lamp_description=\"Luxurious Lamp. Glass and iron. 36 inches tall. Brown with cream shade.\""
   ]
  },
  {
   "cell_type": "code",
   "execution_count": 7,
   "id": "e8920e23-f2b2-494a-9252-7509b92278a3",
   "metadata": {
    "tags": []
   },
   "outputs": [],
   "source": [
    "luxurious_lamp_price=52.15"
   ]
  },
  {
   "cell_type": "code",
   "execution_count": 8,
   "id": "e32dc6a1-8abf-44cd-baa9-cbc8288616b4",
   "metadata": {
    "tags": []
   },
   "outputs": [],
   "source": [
    "sales_tax=0.088"
   ]
  },
  {
   "cell_type": "code",
   "execution_count": 9,
   "id": "d60a7061-42a8-425e-a220-ccac86077f44",
   "metadata": {
    "tags": []
   },
   "outputs": [],
   "source": [
    "customer_one_total=0"
   ]
  },
  {
   "cell_type": "code",
   "execution_count": 10,
   "id": "b2dcaa78-e309-4264-a114-6d778f381cda",
   "metadata": {
    "tags": []
   },
   "outputs": [],
   "source": [
    "customer_one_itemization=\" \""
   ]
  },
  {
   "cell_type": "code",
   "execution_count": 11,
   "id": "73ccd0cc-0c60-422a-b0ca-22d8efff5c9d",
   "metadata": {
    "tags": []
   },
   "outputs": [],
   "source": [
    "customer_one_total+=lovely_loveseat_price"
   ]
  },
  {
   "cell_type": "code",
   "execution_count": 12,
   "id": "094db5e9-e6c4-4a79-927e-f4ff1063dd1a",
   "metadata": {
    "tags": []
   },
   "outputs": [],
   "source": [
    "customer_one_itemization+=lovely_loveseat_description"
   ]
  },
  {
   "cell_type": "code",
   "execution_count": 13,
   "id": "87ca197c-b641-4fd0-8fa4-88380b9ab325",
   "metadata": {
    "tags": []
   },
   "outputs": [],
   "source": [
    "customer_one_total+=luxurious_lamp_price"
   ]
  },
  {
   "cell_type": "code",
   "execution_count": 14,
   "id": "fb821f05-1099-4fe9-9b5d-79e055a61712",
   "metadata": {
    "tags": []
   },
   "outputs": [],
   "source": [
    "customer_one_itemization+=luxurious_lamp_description"
   ]
  },
  {
   "cell_type": "code",
   "execution_count": 15,
   "id": "ce218907-d782-431e-9ae5-23ddf77c7358",
   "metadata": {
    "tags": []
   },
   "outputs": [],
   "source": [
    "customer_one_tax= customer_one_total * sales_tax"
   ]
  },
  {
   "cell_type": "code",
   "execution_count": 16,
   "id": "7aad6903-ea77-4c1f-9150-fc11f24a64f8",
   "metadata": {
    "tags": []
   },
   "outputs": [],
   "source": [
    "customer_one_total+= customer_one_tax"
   ]
  },
  {
   "cell_type": "code",
   "execution_count": 17,
   "id": "dcfeee42-0414-421c-aaa4-b50670a70011",
   "metadata": {
    "tags": []
   },
   "outputs": [
    {
     "name": "stdout",
     "output_type": "stream",
     "text": [
      "Customer One Items:  Lovely Loveseat. Tufted polyester blend on wood. 32 inches high x 40 inches wide x 30 inches deep. Red or white.Luxurious Lamp. Glass and iron. 36 inches tall. Brown with cream shade.\n"
     ]
    }
   ],
   "source": [
    "print(\"Customer One Items:\" ,customer_one_itemization)"
   ]
  },
  {
   "cell_type": "code",
   "execution_count": 18,
   "id": "f82d5410-5c09-4c8e-aaa2-c32d4f72769f",
   "metadata": {
    "tags": []
   },
   "outputs": [
    {
     "name": "stdout",
     "output_type": "stream",
     "text": [
      "Customer One Total:  333.09119999999996\n"
     ]
    }
   ],
   "source": [
    "print(\"Customer One Total: \", customer_one_total)"
   ]
  },
  {
   "cell_type": "code",
   "execution_count": null,
   "id": "10fe660d-3344-4466-b108-1f97dbc16226",
   "metadata": {},
   "outputs": [],
   "source": []
  }
 ],
 "metadata": {
  "kernelspec": {
   "display_name": "Python 3 (ipykernel)",
   "language": "python",
   "name": "python3"
  },
  "language_info": {
   "codemirror_mode": {
    "name": "ipython",
    "version": 3
   },
   "file_extension": ".py",
   "mimetype": "text/x-python",
   "name": "python",
   "nbconvert_exporter": "python",
   "pygments_lexer": "ipython3",
   "version": "3.11.7"
  }
 },
 "nbformat": 4,
 "nbformat_minor": 5
}
